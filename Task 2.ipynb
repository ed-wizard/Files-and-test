{
 "cells": [
  {
   "cell_type": "code",
   "execution_count": 1,
   "metadata": {},
   "outputs": [],
   "source": [
    "#Числа, которые делятся на себя.\n",
    "#Число, которое делится на себя - это число, которое без остатка делится на все свои цифры. Например, 128 - такое число, потому что 128%1==0, 128%2==0, 128%8==0. Такие числа по понятным причинам не могут содержать в себе цифру 0.\n",
    "#Написать функцию, которая получает два числовых параметра - a и b и находит все числа, которые делятся сами на себя в промежутке между a и b включая сами a и b.\n",
    "#Пример:\n",
    "#Вход: \n",
    "#a = 1, b = 22\n",
    "#Результат: [1, 2, 3, 4, 5, 6, 7, 8, 9, 11, 12, 15, 22]\n",
    "def calculate (a, b):\n",
    "    for i in range(a, b+1):\n",
    "        if all(num and not i % num for num in (int(c) for c in str(i))):\n",
    "            print(i, end=' ')"
   ]
  },
  {
   "cell_type": "code",
   "execution_count": 2,
   "metadata": {},
   "outputs": [
    {
     "name": "stdout",
     "output_type": "stream",
     "text": [
      "1 2 3 4 5 6 7 8 9 11 12 15 22 "
     ]
    }
   ],
   "source": [
    "calculate (1, 22)"
   ]
  }
 ],
 "metadata": {
  "kernelspec": {
   "display_name": "Python 3",
   "language": "python",
   "name": "python3"
  },
  "language_info": {
   "codemirror_mode": {
    "name": "ipython",
    "version": 3
   },
   "file_extension": ".py",
   "mimetype": "text/x-python",
   "name": "python",
   "nbconvert_exporter": "python",
   "pygments_lexer": "ipython3",
   "version": "3.8.3"
  }
 },
 "nbformat": 4,
 "nbformat_minor": 4
}

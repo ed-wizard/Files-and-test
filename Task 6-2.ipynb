In[1]:
def CountMutations (x,y):
    S=0
    for i in range(len(x)):
        if x[i] != y[i]:
            S=S+1
    print (S)

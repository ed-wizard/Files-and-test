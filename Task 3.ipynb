{
 "cells": [
  {
   "cell_type": "code",
   "execution_count": 1,
   "metadata": {},
   "outputs": [],
   "source": [
    "#Расшифровка строки\n",
    "#Дана строка текста, сформированная из цифр и символа #.\n",
    "#Цифры отображаются в буквы английского алфавита:\n",
    "#буквы от 'a' до 'i' - в цифры от '1' до '9'\n",
    "#буквы от 'j' до 'z' в цифры от '10#' до 26#\"\n",
    "#Написать функцию, которая разбирает строку с цифрами и возвращает строку с буквами, которые были зашифрованы в исходной строке.\n",
    "#Пример 1:\n",
    "#Input: s = \"10#11#12\"\n",
    "#Output: \"jkab\"\n",
    "#Explanation: \"j\" -> \"10#\" , \"k\" -> \"11#\" , \"a\" -> \"1\" , \"b\" -> \"2\".\n",
    "#Пример 2:\n",
    "#Input: s = \"1326#\"\n",
    "#Output: \"acz\"\n",
    "#Пример 3:\n",
    "#Input: s = \"25#\"\n",
    "#Output: \"y\"\n",
    "#Пример 4:\n",
    "#Input: s = \"12345678910#11#12#13#14#15#16#17#18#19#20#21#22#23#24#25#26#\"\n",
    "#Output: \"abcdefghijklmnopqrstuvwxyz\"\n",
    "def decryption (num):\n",
    "    dic={'1':'a', '2':'b', '3':'c', '4':'d', '5':'e', '6':'f', '7':'g', '8':'h', '9':'i', '10#':'j', '11#':'k', '12#':'l', '13#':'m', '14#':'n', '15#':'o', '16#':'p', '17#':'q', '18#':'r', '19#':'s', '20#':'t', '21#':'u', '22#':'v', '23#':'w', '24#':'x', '25#':'y', '26#':'z'}\n",
    "    l = list(num)\n",
    "    temp = []\n",
    "    for i in range(0, len(l)):\n",
    "          if i < len(l)-2:\n",
    "            if l[i+2] == (\"#\"):\n",
    "                l[i] = l[i]+l[i+1]+l[i+2]\n",
    "                l.remove(\"#\")\n",
    "                l.pop(i+1)\n",
    "                temp.append(l[i])\n",
    "                i+=2            \n",
    "            else:\n",
    "                temp.append(l[i])\n",
    "    temp2 = ''\n",
    "    for i in range(0, len(temp)):\n",
    "        if temp[i] in dic:\n",
    "            temp2 += str(dic[temp[i]])\n",
    "    print(temp2)"
   ]
  },
  {
   "cell_type": "code",
   "execution_count": 2,
   "metadata": {},
   "outputs": [
    {
     "name": "stdout",
     "output_type": "stream",
     "text": [
      "Пример 1\n",
      "jk\n",
      "Пример 2\n",
      "acz\n",
      "Пример 3\n",
      "y\n",
      "Пример 4\n",
      "abcdefghijklmnopqrstuvwxyz\n"
     ]
    }
   ],
   "source": [
    "print(\"Пример 1\")\n",
    "decryption (\"10#11#12\")\n",
    "print(\"Пример 2\")\n",
    "decryption (\"1326#\")\n",
    "print(\"Пример 3\")\n",
    "decryption (\"25#\")\n",
    "print(\"Пример 4\")\n",
    "decryption (\"12345678910#11#12#13#14#15#16#17#18#19#20#21#22#23#24#25#26#\")"
   ]
  }
 ],
 "metadata": {
  "kernelspec": {
   "display_name": "Python 3",
   "language": "python",
   "name": "python3"
  },
  "language_info": {
   "codemirror_mode": {
    "name": "ipython",
    "version": 3
   },
   "file_extension": ".py",
   "mimetype": "text/x-python",
   "name": "python",
   "nbconvert_exporter": "python",
   "pygments_lexer": "ipython3",
   "version": "3.8.3"
  }
 },
 "nbformat": 4,
 "nbformat_minor": 4
}
